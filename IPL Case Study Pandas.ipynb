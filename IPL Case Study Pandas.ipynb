{
 "cells": [
  {
   "cell_type": "code",
   "execution_count": 1,
   "metadata": {},
   "outputs": [],
   "source": [
    "import numpy as np\n",
    "import pandas as pd\n",
    "import matplotlib.pyplot as plt"
   ]
  },
  {
   "cell_type": "code",
   "execution_count": 5,
   "metadata": {
    "scrolled": true
   },
   "outputs": [
    {
     "name": "stdout",
     "output_type": "stream",
     "text": [
      "136590\n",
      "   Match_Id  Innings_Id  Over_Id  Ball_Id  Team_Batting_Id  Team_Bowling_Id  \\\n",
      "0    335987           1        1        1                1                2   \n",
      "\n",
      "   Striker_Id  Striker_Batting_Position  Non_Striker_Id  Bowler_Id  \\\n",
      "0           1                         1               2         14   \n",
      "\n",
      "  Batsman_Scored Extra_Type Extra_Runs Player_dissimal_Id Dissimal_Type  \\\n",
      "0              0    legbyes          1                                    \n",
      "\n",
      "  Fielder_Id  \n",
      "0             \n"
     ]
    }
   ],
   "source": [
    "balldata=pd.read_csv('dummy/Ball_by_Ball.csv')\n",
    "print(len(balldata))\n",
    "print(balldata.head(1))"
   ]
  },
  {
   "cell_type": "code",
   "execution_count": 7,
   "metadata": {
    "scrolled": true
   },
   "outputs": [
    {
     "name": "stdout",
     "output_type": "stream",
     "text": [
      "331\n"
     ]
    }
   ],
   "source": [
    "bowlers=balldata['Bowler_Id'].unique()\n",
    "print(len(bowlers))"
   ]
  },
  {
   "cell_type": "code",
   "execution_count": 8,
   "metadata": {},
   "outputs": [
    {
     "name": "stdout",
     "output_type": "stream",
     "text": [
      "Total Wickets Taken 4941\n"
     ]
    }
   ],
   "source": [
    "balldata=balldata[balldata.Dissimal_Type!=' ']\n",
    "balldata=balldata[balldata.Dissimal_Type!='run out']\n",
    "balldata=balldata[balldata.Dissimal_Type!='retired hurt']\n",
    "print('Total Wickets Taken '+str(len(balldata)))"
   ]
  },
  {
   "cell_type": "code",
   "execution_count": 9,
   "metadata": {},
   "outputs": [
    {
     "name": "stdout",
     "output_type": "stream",
     "text": [
      "   Player_Id  Player_Name        DOB Batting_Hand     Bowling_Skill  \\\n",
      "0          1   SC Ganguly   8-Jul-72    Left_Hand  Right-arm medium   \n",
      "1          2  BB McCullum  27-Sep-81   Right_Hand  Right-arm medium   \n",
      "\n",
      "       Country  Is_Umpire  Unnamed: 7  \n",
      "0        India          0         NaN  \n",
      "1  New Zealand          0         NaN  \n"
     ]
    }
   ],
   "source": [
    "player_data=pd.read_csv('dummy/Player.csv')\n",
    "print(player_data.head(2))"
   ]
  },
  {
   "cell_type": "markdown",
   "metadata": {},
   "source": [
    "## Maximum Wickets."
   ]
  },
  {
   "cell_type": "code",
   "execution_count": 10,
   "metadata": {},
   "outputs": [
    {
     "name": "stdout",
     "output_type": "stream",
     "text": [
      "Wickets Records by Maximum Wickets\n"
     ]
    },
    {
     "data": {
      "text/html": [
       "<div>\n",
       "<style scoped>\n",
       "    .dataframe tbody tr th:only-of-type {\n",
       "        vertical-align: middle;\n",
       "    }\n",
       "\n",
       "    .dataframe tbody tr th {\n",
       "        vertical-align: top;\n",
       "    }\n",
       "\n",
       "    .dataframe thead th {\n",
       "        text-align: right;\n",
       "    }\n",
       "</style>\n",
       "<table border=\"1\" class=\"dataframe\">\n",
       "  <thead>\n",
       "    <tr style=\"text-align: right;\">\n",
       "      <th></th>\n",
       "      <th>Player_Id</th>\n",
       "      <th>Wickets_Taken</th>\n",
       "      <th>Player_Name</th>\n",
       "      <th>DOB</th>\n",
       "      <th>Batting_Hand</th>\n",
       "      <th>Bowling_Skill</th>\n",
       "      <th>Country</th>\n",
       "      <th>Is_Umpire</th>\n",
       "      <th>Unnamed: 7</th>\n",
       "    </tr>\n",
       "  </thead>\n",
       "  <tbody>\n",
       "    <tr>\n",
       "      <th>121</th>\n",
       "      <td>194</td>\n",
       "      <td>120</td>\n",
       "      <td>SL Malinga</td>\n",
       "      <td>28-Aug-83</td>\n",
       "      <td>Right_Hand</td>\n",
       "      <td>Right-arm fast</td>\n",
       "      <td>Sri Lanka</td>\n",
       "      <td>0</td>\n",
       "      <td>NaN</td>\n",
       "    </tr>\n",
       "  </tbody>\n",
       "</table>\n",
       "</div>"
      ],
      "text/plain": [
       "     Player_Id  Wickets_Taken Player_Name        DOB Batting_Hand  \\\n",
       "121        194            120  SL Malinga  28-Aug-83   Right_Hand   \n",
       "\n",
       "      Bowling_Skill    Country  Is_Umpire  Unnamed: 7  \n",
       "121  Right-arm fast  Sri Lanka          0         NaN  "
      ]
     },
     "execution_count": 10,
     "metadata": {},
     "output_type": "execute_result"
    }
   ],
   "source": [
    "wickets=balldata.groupby(['Bowler_Id'])\n",
    "wickets_taken=[]\n",
    "baller_id=[]\n",
    "for i, j in wickets:\n",
    "    wickets_taken.append([i,len(j['Dissimal_Type'])])\n",
    "\n",
    "wickets_records=pd.DataFrame(wickets_taken,columns=['Player_Id','Wickets_Taken'])\n",
    "bowler_record=pd.merge(wickets_records,player_data,on='Player_Id',how='left')\n",
    "print('Wickets Records by Maximum Wickets')\n",
    "bowler_record.sort_values(by='Wickets_Taken',kind='mergesort',ascending=False).head(1)\n"
   ]
  },
  {
   "cell_type": "markdown",
   "metadata": {},
   "source": [
    "## Maximum Runs.."
   ]
  },
  {
   "cell_type": "code",
   "execution_count": 12,
   "metadata": {},
   "outputs": [
    {
     "name": "stdout",
     "output_type": "stream",
     "text": [
      "ScoreCard With Maximum Scores\n"
     ]
    },
    {
     "data": {
      "text/html": [
       "<div>\n",
       "<style scoped>\n",
       "    .dataframe tbody tr th:only-of-type {\n",
       "        vertical-align: middle;\n",
       "    }\n",
       "\n",
       "    .dataframe tbody tr th {\n",
       "        vertical-align: top;\n",
       "    }\n",
       "\n",
       "    .dataframe thead th {\n",
       "        text-align: right;\n",
       "    }\n",
       "</style>\n",
       "<table border=\"1\" class=\"dataframe\">\n",
       "  <thead>\n",
       "    <tr style=\"text-align: right;\">\n",
       "      <th></th>\n",
       "      <th>Player_Id</th>\n",
       "      <th>Total Scores</th>\n",
       "      <th>Player_Name</th>\n",
       "      <th>DOB</th>\n",
       "      <th>Batting_Hand</th>\n",
       "      <th>Bowling_Skill</th>\n",
       "      <th>Country</th>\n",
       "      <th>Is_Umpire</th>\n",
       "      <th>Unnamed: 7</th>\n",
       "    </tr>\n",
       "  </thead>\n",
       "  <tbody>\n",
       "    <tr>\n",
       "      <th>20</th>\n",
       "      <td>21</td>\n",
       "      <td>4106</td>\n",
       "      <td>SK Raina</td>\n",
       "      <td>27-Nov-86</td>\n",
       "      <td>Left_Hand</td>\n",
       "      <td>Right-arm offbreak</td>\n",
       "      <td>India</td>\n",
       "      <td>0</td>\n",
       "      <td>NaN</td>\n",
       "    </tr>\n",
       "  </tbody>\n",
       "</table>\n",
       "</div>"
      ],
      "text/plain": [
       "    Player_Id  Total Scores Player_Name        DOB Batting_Hand  \\\n",
       "20         21          4106    SK Raina  27-Nov-86    Left_Hand   \n",
       "\n",
       "         Bowling_Skill Country  Is_Umpire  Unnamed: 7  \n",
       "20  Right-arm offbreak   India          0         NaN  "
      ]
     },
     "execution_count": 12,
     "metadata": {},
     "output_type": "execute_result"
    }
   ],
   "source": [
    "newdata=pd.read_csv('dummy/Ball_by_Ball.csv')\n",
    "newdata=newdata[newdata.Batsman_Scored!='Do_nothing']\n",
    "newdata=newdata[newdata.Batsman_Scored!='0']\n",
    "newdata=newdata[newdata.Batsman_Scored!=' ']\n",
    "scores=newdata.groupby('Striker_Id')\n",
    "scored=[]\n",
    "for i,j in scores:\n",
    "    scored.append((i,np.sum(np.array(j['Batsman_Scored'],dtype=int))))\n",
    "    #scored.append((i,j['Batsman_Scored'].sum())) This is Returning the list of String instead of adding the numbers.\n",
    "    \n",
    "score_record=pd.DataFrame(scored,columns=['Player_Id','Total Scores'])\n",
    "print('ScoreCard With Maximum Scores')\n",
    "scorecard=pd.merge(score_record,player_data,on='Player_Id',how='left')\n",
    "scorecard.sort_values(by='Total Scores',kind='mergeort',ascending=False).head(1)"
   ]
  },
  {
   "cell_type": "markdown",
   "metadata": {},
   "source": [
    "## Maximum Sixers."
   ]
  },
  {
   "cell_type": "code",
   "execution_count": 13,
   "metadata": {},
   "outputs": [
    {
     "name": "stdout",
     "output_type": "stream",
     "text": [
      "Maximum Sixers..\n"
     ]
    },
    {
     "data": {
      "text/html": [
       "<div>\n",
       "<style scoped>\n",
       "    .dataframe tbody tr th:only-of-type {\n",
       "        vertical-align: middle;\n",
       "    }\n",
       "\n",
       "    .dataframe tbody tr th {\n",
       "        vertical-align: top;\n",
       "    }\n",
       "\n",
       "    .dataframe thead th {\n",
       "        text-align: right;\n",
       "    }\n",
       "</style>\n",
       "<table border=\"1\" class=\"dataframe\">\n",
       "  <thead>\n",
       "    <tr style=\"text-align: right;\">\n",
       "      <th></th>\n",
       "      <th>Player_Id</th>\n",
       "      <th>Total Sixers</th>\n",
       "      <th>Player_Name</th>\n",
       "      <th>DOB</th>\n",
       "      <th>Batting_Hand</th>\n",
       "      <th>Bowling_Skill</th>\n",
       "      <th>Country</th>\n",
       "      <th>Is_Umpire</th>\n",
       "      <th>Unnamed: 7</th>\n",
       "    </tr>\n",
       "  </thead>\n",
       "  <tbody>\n",
       "    <tr>\n",
       "      <th>121</th>\n",
       "      <td>162</td>\n",
       "      <td>252</td>\n",
       "      <td>CH Gayle</td>\n",
       "      <td>21-Sep-79</td>\n",
       "      <td>Left_Hand</td>\n",
       "      <td>Right-arm offbreak</td>\n",
       "      <td>West Indies</td>\n",
       "      <td>0</td>\n",
       "      <td>NaN</td>\n",
       "    </tr>\n",
       "  </tbody>\n",
       "</table>\n",
       "</div>"
      ],
      "text/plain": [
       "     Player_Id  Total Sixers Player_Name        DOB Batting_Hand  \\\n",
       "121        162           252    CH Gayle  21-Sep-79    Left_Hand   \n",
       "\n",
       "          Bowling_Skill      Country  Is_Umpire  Unnamed: 7  \n",
       "121  Right-arm offbreak  West Indies          0         NaN  "
      ]
     },
     "execution_count": 13,
     "metadata": {},
     "output_type": "execute_result"
    }
   ],
   "source": [
    "sixdata=newdata[newdata.Batsman_Scored=='6']\n",
    "sixers=sixdata.groupby('Striker_Id')\n",
    "sixers_hit=[]\n",
    "for i,j in sixers:\n",
    "    sixers_hit.append((i,len(j.Batsman_Scored)))\n",
    "sixers_record=pd.DataFrame(sixers_hit,columns=['Player_Id','Total Sixers'])\n",
    "print('Maximum Sixers..')\n",
    "sixercard=pd.merge(sixers_record,player_data,on='Player_Id',how='left')\n",
    "sixercard.sort_values(by='Total Sixers',kind='mergeort',ascending=False).head(1)"
   ]
  },
  {
   "cell_type": "markdown",
   "metadata": {},
   "source": [
    "## Maximum Four's"
   ]
  },
  {
   "cell_type": "code",
   "execution_count": 14,
   "metadata": {},
   "outputs": [
    {
     "name": "stdout",
     "output_type": "stream",
     "text": [
      "Maximum Fours..\n"
     ]
    },
    {
     "data": {
      "text/html": [
       "<div>\n",
       "<style scoped>\n",
       "    .dataframe tbody tr th:only-of-type {\n",
       "        vertical-align: middle;\n",
       "    }\n",
       "\n",
       "    .dataframe tbody tr th {\n",
       "        vertical-align: top;\n",
       "    }\n",
       "\n",
       "    .dataframe thead th {\n",
       "        text-align: right;\n",
       "    }\n",
       "</style>\n",
       "<table border=\"1\" class=\"dataframe\">\n",
       "  <thead>\n",
       "    <tr style=\"text-align: right;\">\n",
       "      <th></th>\n",
       "      <th>Player_Id</th>\n",
       "      <th>Total Fours</th>\n",
       "      <th>Player_Name</th>\n",
       "      <th>DOB</th>\n",
       "      <th>Batting_Hand</th>\n",
       "      <th>Bowling_Skill</th>\n",
       "      <th>Country</th>\n",
       "      <th>Is_Umpire</th>\n",
       "      <th>Unnamed: 7</th>\n",
       "    </tr>\n",
       "  </thead>\n",
       "  <tbody>\n",
       "    <tr>\n",
       "      <th>37</th>\n",
       "      <td>40</td>\n",
       "      <td>422</td>\n",
       "      <td>G Gambhir</td>\n",
       "      <td>14-Oct-81</td>\n",
       "      <td>Left_Hand</td>\n",
       "      <td>Legbreak</td>\n",
       "      <td>India</td>\n",
       "      <td>0</td>\n",
       "      <td>NaN</td>\n",
       "    </tr>\n",
       "  </tbody>\n",
       "</table>\n",
       "</div>"
      ],
      "text/plain": [
       "    Player_Id  Total Fours Player_Name        DOB Batting_Hand Bowling_Skill  \\\n",
       "37         40          422   G Gambhir  14-Oct-81    Left_Hand      Legbreak   \n",
       "\n",
       "   Country  Is_Umpire  Unnamed: 7  \n",
       "37   India          0         NaN  "
      ]
     },
     "execution_count": 14,
     "metadata": {},
     "output_type": "execute_result"
    }
   ],
   "source": [
    "fourdata=newdata[newdata.Batsman_Scored=='4']\n",
    "fours=fourdata.groupby('Striker_Id')\n",
    "fours_hit=[]\n",
    "for i,j in fours:\n",
    "    fours_hit.append((i,len(j.Batsman_Scored)))\n",
    "fours_record=pd.DataFrame(fours_hit,columns=['Player_Id','Total Fours'])\n",
    "print('Maximum Fours..')\n",
    "fourscard=pd.merge(fours_record,player_data,on='Player_Id',how='left')\n",
    "fourscard.sort_values(by='Total Fours',kind='mergeort',ascending=False).head(1)"
   ]
  },
  {
   "cell_type": "markdown",
   "metadata": {},
   "source": [
    "## Matches in Each Stadium"
   ]
  },
  {
   "cell_type": "code",
   "execution_count": 15,
   "metadata": {},
   "outputs": [
    {
     "name": "stdout",
     "output_type": "stream",
     "text": [
      "   Match_Id Match_Date  Team_Name_Id  Opponent_Team_Id  Season_Id  \\\n",
      "0    335987  18-Apr-08             2                 1          1   \n",
      "\n",
      "              Venue_Name  Toss_Winner_Id Toss_Decision  IS_Superover  \\\n",
      "0  M Chinnaswamy Stadium               2         field             0   \n",
      "\n",
      "   IS_Result  Is_DuckWorthLewis Win_Type  Won_By  Match_Winner_Id  \\\n",
      "0          1                  0  by runs   140.0              1.0   \n",
      "\n",
      "   Man_Of_The_Match_Id  First_Umpire_Id  Second_Umpire_Id  City_Name  \\\n",
      "0                  2.0              470               477  Bangalore   \n",
      "\n",
      "  Host_Country  \n",
      "0        India  \n"
     ]
    }
   ],
   "source": [
    "matchdata=pd.read_csv('dummy/Match.csv')\n",
    "print(matchdata.head(1))"
   ]
  },
  {
   "cell_type": "code",
   "execution_count": 16,
   "metadata": {},
   "outputs": [
    {
     "data": {
      "text/html": [
       "<div>\n",
       "<style scoped>\n",
       "    .dataframe tbody tr th:only-of-type {\n",
       "        vertical-align: middle;\n",
       "    }\n",
       "\n",
       "    .dataframe tbody tr th {\n",
       "        vertical-align: top;\n",
       "    }\n",
       "\n",
       "    .dataframe thead th {\n",
       "        text-align: right;\n",
       "    }\n",
       "</style>\n",
       "<table border=\"1\" class=\"dataframe\">\n",
       "  <thead>\n",
       "    <tr style=\"text-align: right;\">\n",
       "      <th></th>\n",
       "      <th>Venue</th>\n",
       "      <th>Total_Matches</th>\n",
       "    </tr>\n",
       "  </thead>\n",
       "  <tbody>\n",
       "    <tr>\n",
       "      <th>14</th>\n",
       "      <td>M Chinnaswamy Stadium</td>\n",
       "      <td>58</td>\n",
       "    </tr>\n",
       "    <tr>\n",
       "      <th>7</th>\n",
       "      <td>Eden Gardens</td>\n",
       "      <td>54</td>\n",
       "    </tr>\n",
       "    <tr>\n",
       "      <th>8</th>\n",
       "      <td>Feroz Shah Kotla</td>\n",
       "      <td>53</td>\n",
       "    </tr>\n",
       "  </tbody>\n",
       "</table>\n",
       "</div>"
      ],
      "text/plain": [
       "                    Venue  Total_Matches\n",
       "14  M Chinnaswamy Stadium             58\n",
       "7            Eden Gardens             54\n",
       "8        Feroz Shah Kotla             53"
      ]
     },
     "execution_count": 16,
     "metadata": {},
     "output_type": "execute_result"
    }
   ],
   "source": [
    "f=matchdata.groupby('Venue_Name')\n",
    "matchrecord=[]\n",
    "for i,j in f:\n",
    "    matchrecord.append((i,len(j.Match_Id)))\n",
    "final=pd.DataFrame(matchrecord,columns=['Venue','Total_Matches'])\n",
    "final.sort_values(by='Total_Matches',kind='mergesort',ascending=False).head(3)\n"
   ]
  },
  {
   "cell_type": "code",
   "execution_count": 17,
   "metadata": {},
   "outputs": [
    {
     "data": {
      "image/png": "[encoded data removed]",
      "text/plain": [
       "<Figure size 432x288 with 1 Axes>"
      ]
     },
     "metadata": {},
     "output_type": "display_data"
    }
   ],
   "source": [
    "matchrecord=sorted(matchrecord, key=lambda x:x[1],reverse=True)\n",
    "labels=[]\n",
    "sizes=[]\n",
    "for i in range(6):\n",
    "    labels.append(matchrecord[i][0])\n",
    "    sizes.append(matchrecord[i][1])\n",
    "fig1,ax1=plt.subplots()\n",
    "ax1.pie(sizes, labels=labels, autopct='%1.1f%%',\n",
    "        shadow=True, startangle=90)\n",
    "ax1.axis('equal')\n",
    "plt.show()"
   ]
  },
  {
   "cell_type": "markdown",
   "metadata": {},
   "source": [
    "## SeasonWise Winners"
   ]
  },
  {
   "cell_type": "code",
   "execution_count": 18,
   "metadata": {},
   "outputs": [
    {
     "data": {
      "text/html": [
       "<div>\n",
       "<style scoped>\n",
       "    .dataframe tbody tr th:only-of-type {\n",
       "        vertical-align: middle;\n",
       "    }\n",
       "\n",
       "    .dataframe tbody tr th {\n",
       "        vertical-align: top;\n",
       "    }\n",
       "\n",
       "    .dataframe thead th {\n",
       "        text-align: right;\n",
       "    }\n",
       "</style>\n",
       "<table border=\"1\" class=\"dataframe\">\n",
       "  <thead>\n",
       "    <tr style=\"text-align: right;\">\n",
       "      <th></th>\n",
       "      <th>Season_Id</th>\n",
       "      <th>Team_Id</th>\n",
       "    </tr>\n",
       "  </thead>\n",
       "  <tbody>\n",
       "    <tr>\n",
       "      <th>0</th>\n",
       "      <td>1</td>\n",
       "      <td>5.0</td>\n",
       "    </tr>\n",
       "    <tr>\n",
       "      <th>1</th>\n",
       "      <td>2</td>\n",
       "      <td>8.0</td>\n",
       "    </tr>\n",
       "    <tr>\n",
       "      <th>2</th>\n",
       "      <td>3</td>\n",
       "      <td>3.0</td>\n",
       "    </tr>\n",
       "    <tr>\n",
       "      <th>3</th>\n",
       "      <td>4</td>\n",
       "      <td>3.0</td>\n",
       "    </tr>\n",
       "    <tr>\n",
       "      <th>4</th>\n",
       "      <td>5</td>\n",
       "      <td>1.0</td>\n",
       "    </tr>\n",
       "    <tr>\n",
       "      <th>5</th>\n",
       "      <td>6</td>\n",
       "      <td>7.0</td>\n",
       "    </tr>\n",
       "    <tr>\n",
       "      <th>6</th>\n",
       "      <td>7</td>\n",
       "      <td>1.0</td>\n",
       "    </tr>\n",
       "    <tr>\n",
       "      <th>7</th>\n",
       "      <td>8</td>\n",
       "      <td>7.0</td>\n",
       "    </tr>\n",
       "    <tr>\n",
       "      <th>8</th>\n",
       "      <td>9</td>\n",
       "      <td>11.0</td>\n",
       "    </tr>\n",
       "  </tbody>\n",
       "</table>\n",
       "</div>"
      ],
      "text/plain": [
       "   Season_Id  Team_Id\n",
       "0          1      5.0\n",
       "1          2      8.0\n",
       "2          3      3.0\n",
       "3          4      3.0\n",
       "4          5      1.0\n",
       "5          6      7.0\n",
       "6          7      1.0\n",
       "7          8      7.0\n",
       "8          9     11.0"
      ]
     },
     "execution_count": 18,
     "metadata": {},
     "output_type": "execute_result"
    }
   ],
   "source": [
    "seasonwisefilter=matchdata.groupby('Season_Id')\n",
    "seasonwiserecord=[]\n",
    "temp=0\n",
    "for i, j in seasonwisefilter:\n",
    "    temp+=len(j.Match_Winner_Id)\n",
    "    seasonWinner=j.loc[temp-1:temp-1:,'Match_Winner_Id'].values[0]\n",
    "    #print(seasonWinner)\n",
    "    #print(temp,\" \",seasonWinner)\n",
    "    seasonwiserecord.append((i,seasonWinner))\n",
    "winners=pd.DataFrame(seasonwiserecord,columns=['Season_Id','Team_Id'])\n",
    "pd.DataFrame(seasonwiserecord,columns=['Season_Id','Team_Id'])\n"
   ]
  },
  {
   "cell_type": "code",
   "execution_count": 19,
   "metadata": {},
   "outputs": [
    {
     "data": {
      "text/html": [
       "<div>\n",
       "<style scoped>\n",
       "    .dataframe tbody tr th:only-of-type {\n",
       "        vertical-align: middle;\n",
       "    }\n",
       "\n",
       "    .dataframe tbody tr th {\n",
       "        vertical-align: top;\n",
       "    }\n",
       "\n",
       "    .dataframe thead th {\n",
       "        text-align: right;\n",
       "    }\n",
       "</style>\n",
       "<table border=\"1\" class=\"dataframe\">\n",
       "  <thead>\n",
       "    <tr style=\"text-align: right;\">\n",
       "      <th></th>\n",
       "      <th>Team_Id</th>\n",
       "      <th>Team_Name</th>\n",
       "      <th>Team_Short_Code</th>\n",
       "    </tr>\n",
       "  </thead>\n",
       "  <tbody>\n",
       "    <tr>\n",
       "      <th>0</th>\n",
       "      <td>1</td>\n",
       "      <td>Kolkata Knight Riders</td>\n",
       "      <td>KKR</td>\n",
       "    </tr>\n",
       "    <tr>\n",
       "      <th>1</th>\n",
       "      <td>2</td>\n",
       "      <td>Royal Challengers Bangalore</td>\n",
       "      <td>RCB</td>\n",
       "    </tr>\n",
       "  </tbody>\n",
       "</table>\n",
       "</div>"
      ],
      "text/plain": [
       "   Team_Id                    Team_Name Team_Short_Code\n",
       "0        1        Kolkata Knight Riders             KKR\n",
       "1        2  Royal Challengers Bangalore             RCB"
      ]
     },
     "execution_count": 19,
     "metadata": {},
     "output_type": "execute_result"
    }
   ],
   "source": [
    "teamdata=pd.read_csv('dummy/Team.csv')\n",
    "teamdata.head(2)"
   ]
  },
  {
   "cell_type": "code",
   "execution_count": 20,
   "metadata": {},
   "outputs": [
    {
     "data": {
      "text/html": [
       "<div>\n",
       "<style scoped>\n",
       "    .dataframe tbody tr th:only-of-type {\n",
       "        vertical-align: middle;\n",
       "    }\n",
       "\n",
       "    .dataframe tbody tr th {\n",
       "        vertical-align: top;\n",
       "    }\n",
       "\n",
       "    .dataframe thead th {\n",
       "        text-align: right;\n",
       "    }\n",
       "</style>\n",
       "<table border=\"1\" class=\"dataframe\">\n",
       "  <thead>\n",
       "    <tr style=\"text-align: right;\">\n",
       "      <th></th>\n",
       "      <th>Season_Id</th>\n",
       "      <th>Team_Id</th>\n",
       "      <th>Team_Name</th>\n",
       "      <th>Team_Short_Code</th>\n",
       "    </tr>\n",
       "  </thead>\n",
       "  <tbody>\n",
       "    <tr>\n",
       "      <th>0</th>\n",
       "      <td>1</td>\n",
       "      <td>5.0</td>\n",
       "      <td>Rajasthan Royals</td>\n",
       "      <td>RR</td>\n",
       "    </tr>\n",
       "    <tr>\n",
       "      <th>1</th>\n",
       "      <td>2</td>\n",
       "      <td>8.0</td>\n",
       "      <td>Deccan Chargers</td>\n",
       "      <td>DC</td>\n",
       "    </tr>\n",
       "    <tr>\n",
       "      <th>2</th>\n",
       "      <td>3</td>\n",
       "      <td>3.0</td>\n",
       "      <td>Chennai Super Kings</td>\n",
       "      <td>CSK</td>\n",
       "    </tr>\n",
       "    <tr>\n",
       "      <th>3</th>\n",
       "      <td>4</td>\n",
       "      <td>3.0</td>\n",
       "      <td>Chennai Super Kings</td>\n",
       "      <td>CSK</td>\n",
       "    </tr>\n",
       "    <tr>\n",
       "      <th>4</th>\n",
       "      <td>5</td>\n",
       "      <td>1.0</td>\n",
       "      <td>Kolkata Knight Riders</td>\n",
       "      <td>KKR</td>\n",
       "    </tr>\n",
       "    <tr>\n",
       "      <th>5</th>\n",
       "      <td>6</td>\n",
       "      <td>7.0</td>\n",
       "      <td>Mumbai Indians</td>\n",
       "      <td>MI</td>\n",
       "    </tr>\n",
       "    <tr>\n",
       "      <th>6</th>\n",
       "      <td>7</td>\n",
       "      <td>1.0</td>\n",
       "      <td>Kolkata Knight Riders</td>\n",
       "      <td>KKR</td>\n",
       "    </tr>\n",
       "    <tr>\n",
       "      <th>7</th>\n",
       "      <td>8</td>\n",
       "      <td>7.0</td>\n",
       "      <td>Mumbai Indians</td>\n",
       "      <td>MI</td>\n",
       "    </tr>\n",
       "    <tr>\n",
       "      <th>8</th>\n",
       "      <td>9</td>\n",
       "      <td>11.0</td>\n",
       "      <td>Sunrisers Hyderabad</td>\n",
       "      <td>SRH</td>\n",
       "    </tr>\n",
       "  </tbody>\n",
       "</table>\n",
       "</div>"
      ],
      "text/plain": [
       "   Season_Id  Team_Id              Team_Name Team_Short_Code\n",
       "0          1      5.0       Rajasthan Royals              RR\n",
       "1          2      8.0        Deccan Chargers              DC\n",
       "2          3      3.0    Chennai Super Kings             CSK\n",
       "3          4      3.0    Chennai Super Kings             CSK\n",
       "4          5      1.0  Kolkata Knight Riders             KKR\n",
       "5          6      7.0         Mumbai Indians              MI\n",
       "6          7      1.0  Kolkata Knight Riders             KKR\n",
       "7          8      7.0         Mumbai Indians              MI\n",
       "8          9     11.0    Sunrisers Hyderabad             SRH"
      ]
     },
     "execution_count": 20,
     "metadata": {},
     "output_type": "execute_result"
    }
   ],
   "source": [
    "pd.merge(winners,teamdata,on='Team_Id',how='left')"
   ]
  },
  {
   "cell_type": "code",
   "execution_count": 21,
   "metadata": {},
   "outputs": [
    {
     "data": {
      "image/png": "[encoded data removed]",
      "text/plain": [
       "<Figure size 432x288 with 1 Axes>"
      ]
     },
     "metadata": {},
     "output_type": "display_data"
    }
   ],
   "source": [
    "temp=pd.merge(winners,teamdata,on='Team_Id',how='left')\n",
    "labels=temp.Team_Short_Code.unique()\n",
    "sizes=[1,1,2,2,2,1]\n",
    "fig2,ax2=plt.subplots()\n",
    "ax2.pie(sizes, labels=labels, autopct='%1.1f%%',\n",
    "        shadow=True, startangle=90)\n",
    "ax2.axis('equal')\n",
    "plt.show()"
   ]
  },
  {
   "cell_type": "markdown",
   "metadata": {},
   "source": [
    "## Man of The Match Analysis"
   ]
  },
  {
   "cell_type": "code",
   "execution_count": 33,
   "metadata": {},
   "outputs": [
    {
     "data": {
      "text/html": [
       "<div>\n",
       "<style scoped>\n",
       "    .dataframe tbody tr th:only-of-type {\n",
       "        vertical-align: middle;\n",
       "    }\n",
       "\n",
       "    .dataframe tbody tr th {\n",
       "        vertical-align: top;\n",
       "    }\n",
       "\n",
       "    .dataframe thead th {\n",
       "        text-align: right;\n",
       "    }\n",
       "</style>\n",
       "<table border=\"1\" class=\"dataframe\">\n",
       "  <thead>\n",
       "    <tr style=\"text-align: right;\">\n",
       "      <th></th>\n",
       "      <th>Season_Id</th>\n",
       "      <th>Match_Id</th>\n",
       "      <th>Player_Id</th>\n",
       "    </tr>\n",
       "  </thead>\n",
       "  <tbody>\n",
       "    <tr>\n",
       "      <th>0</th>\n",
       "      <td>1</td>\n",
       "      <td>335987</td>\n",
       "      <td>2.0</td>\n",
       "    </tr>\n",
       "    <tr>\n",
       "      <th>1</th>\n",
       "      <td>1</td>\n",
       "      <td>335988</td>\n",
       "      <td>19.0</td>\n",
       "    </tr>\n",
       "    <tr>\n",
       "      <th>2</th>\n",
       "      <td>1</td>\n",
       "      <td>335989</td>\n",
       "      <td>90.0</td>\n",
       "    </tr>\n",
       "    <tr>\n",
       "      <th>3</th>\n",
       "      <td>1</td>\n",
       "      <td>335990</td>\n",
       "      <td>11.0</td>\n",
       "    </tr>\n",
       "    <tr>\n",
       "      <th>4</th>\n",
       "      <td>1</td>\n",
       "      <td>335991</td>\n",
       "      <td>4.0</td>\n",
       "    </tr>\n",
       "  </tbody>\n",
       "</table>\n",
       "</div>"
      ],
      "text/plain": [
       "   Season_Id  Match_Id  Player_Id\n",
       "0          1    335987        2.0\n",
       "1          1    335988       19.0\n",
       "2          1    335989       90.0\n",
       "3          1    335990       11.0\n",
       "4          1    335991        4.0"
      ]
     },
     "execution_count": 33,
     "metadata": {},
     "output_type": "execute_result"
    }
   ],
   "source": [
    "matchwisefilter=matchdata.groupby(['Match_Id'])\n",
    "manofthematch=[]\n",
    "for i, j in matchwisefilter:\n",
    "    manofthematch.append([j.Season_Id.values[0],j.Match_Id.values[0],j.Man_Of_The_Match_Id.values[0]])\n",
    "#print(manofthematch)\n",
    "data=pd.DataFrame(manofthematch,columns=['Season_Id','Match_Id','Player_Id'])  \n",
    "pd.DataFrame(manofthematch,columns=['Season_Id','Match_Id','Player_Id']).head(5)\n"
   ]
  },
  {
   "cell_type": "code",
   "execution_count": 32,
   "metadata": {},
   "outputs": [
    {
     "data": {
      "text/html": [
       "<div>\n",
       "<style scoped>\n",
       "    .dataframe tbody tr th:only-of-type {\n",
       "        vertical-align: middle;\n",
       "    }\n",
       "\n",
       "    .dataframe tbody tr th {\n",
       "        vertical-align: top;\n",
       "    }\n",
       "\n",
       "    .dataframe thead th {\n",
       "        text-align: right;\n",
       "    }\n",
       "</style>\n",
       "<table border=\"1\" class=\"dataframe\">\n",
       "  <thead>\n",
       "    <tr style=\"text-align: right;\">\n",
       "      <th></th>\n",
       "      <th>Season_Id</th>\n",
       "      <th>Match_Id</th>\n",
       "      <th>Player_Id</th>\n",
       "      <th>Player_Name</th>\n",
       "      <th>DOB</th>\n",
       "      <th>Batting_Hand</th>\n",
       "      <th>Bowling_Skill</th>\n",
       "      <th>Country</th>\n",
       "      <th>Is_Umpire</th>\n",
       "      <th>Unnamed: 7</th>\n",
       "    </tr>\n",
       "  </thead>\n",
       "  <tbody>\n",
       "    <tr>\n",
       "      <th>0</th>\n",
       "      <td>1</td>\n",
       "      <td>335987</td>\n",
       "      <td>2.0</td>\n",
       "      <td>BB McCullum</td>\n",
       "      <td>27-Sep-81</td>\n",
       "      <td>Right_Hand</td>\n",
       "      <td>Right-arm medium</td>\n",
       "      <td>New Zealand</td>\n",
       "      <td>0</td>\n",
       "      <td>NaN</td>\n",
       "    </tr>\n",
       "    <tr>\n",
       "      <th>1</th>\n",
       "      <td>4</td>\n",
       "      <td>501215</td>\n",
       "      <td>2.0</td>\n",
       "      <td>BB McCullum</td>\n",
       "      <td>27-Sep-81</td>\n",
       "      <td>Right_Hand</td>\n",
       "      <td>Right-arm medium</td>\n",
       "      <td>New Zealand</td>\n",
       "      <td>0</td>\n",
       "      <td>NaN</td>\n",
       "    </tr>\n",
       "    <tr>\n",
       "      <th>2</th>\n",
       "      <td>4</td>\n",
       "      <td>501220</td>\n",
       "      <td>2.0</td>\n",
       "      <td>BB McCullum</td>\n",
       "      <td>27-Sep-81</td>\n",
       "      <td>Right_Hand</td>\n",
       "      <td>Right-arm medium</td>\n",
       "      <td>New Zealand</td>\n",
       "      <td>0</td>\n",
       "      <td>NaN</td>\n",
       "    </tr>\n",
       "    <tr>\n",
       "      <th>3</th>\n",
       "      <td>8</td>\n",
       "      <td>829716</td>\n",
       "      <td>2.0</td>\n",
       "      <td>BB McCullum</td>\n",
       "      <td>27-Sep-81</td>\n",
       "      <td>Right_Hand</td>\n",
       "      <td>Right-arm medium</td>\n",
       "      <td>New Zealand</td>\n",
       "      <td>0</td>\n",
       "      <td>NaN</td>\n",
       "    </tr>\n",
       "    <tr>\n",
       "      <th>4</th>\n",
       "      <td>8</td>\n",
       "      <td>829758</td>\n",
       "      <td>2.0</td>\n",
       "      <td>BB McCullum</td>\n",
       "      <td>27-Sep-81</td>\n",
       "      <td>Right_Hand</td>\n",
       "      <td>Right-arm medium</td>\n",
       "      <td>New Zealand</td>\n",
       "      <td>0</td>\n",
       "      <td>NaN</td>\n",
       "    </tr>\n",
       "  </tbody>\n",
       "</table>\n",
       "</div>"
      ],
      "text/plain": [
       "   Season_Id  Match_Id  Player_Id  Player_Name        DOB Batting_Hand  \\\n",
       "0          1    335987        2.0  BB McCullum  27-Sep-81   Right_Hand   \n",
       "1          4    501215        2.0  BB McCullum  27-Sep-81   Right_Hand   \n",
       "2          4    501220        2.0  BB McCullum  27-Sep-81   Right_Hand   \n",
       "3          8    829716        2.0  BB McCullum  27-Sep-81   Right_Hand   \n",
       "4          8    829758        2.0  BB McCullum  27-Sep-81   Right_Hand   \n",
       "\n",
       "      Bowling_Skill      Country  Is_Umpire  Unnamed: 7  \n",
       "0  Right-arm medium  New Zealand          0         NaN  \n",
       "1  Right-arm medium  New Zealand          0         NaN  \n",
       "2  Right-arm medium  New Zealand          0         NaN  \n",
       "3  Right-arm medium  New Zealand          0         NaN  \n",
       "4  Right-arm medium  New Zealand          0         NaN  "
      ]
     },
     "execution_count": 32,
     "metadata": {},
     "output_type": "execute_result"
    }
   ],
   "source": [
    "pd.merge(data,player_data,on='Player_Id',how='inner').head(5)"
   ]
  },
  {
   "cell_type": "markdown",
   "metadata": {},
   "source": [
    "### Man of The Match in Each Season"
   ]
  },
  {
   "cell_type": "code",
   "execution_count": 69,
   "metadata": {},
   "outputs": [
    {
     "data": {
      "text/html": [
       "<div>\n",
       "<style scoped>\n",
       "    .dataframe tbody tr th:only-of-type {\n",
       "        vertical-align: middle;\n",
       "    }\n",
       "\n",
       "    .dataframe tbody tr th {\n",
       "        vertical-align: top;\n",
       "    }\n",
       "\n",
       "    .dataframe thead th {\n",
       "        text-align: right;\n",
       "    }\n",
       "</style>\n",
       "<table border=\"1\" class=\"dataframe\">\n",
       "  <thead>\n",
       "    <tr style=\"text-align: right;\">\n",
       "      <th></th>\n",
       "      <th>Season_Id</th>\n",
       "      <th>Player_Name</th>\n",
       "      <th>Man_Of_The_Match_Count</th>\n",
       "    </tr>\n",
       "  </thead>\n",
       "  <tbody>\n",
       "    <tr>\n",
       "      <th>365</th>\n",
       "      <td>9</td>\n",
       "      <td>V Kohli</td>\n",
       "      <td>5</td>\n",
       "    </tr>\n",
       "    <tr>\n",
       "      <th>359</th>\n",
       "      <td>9</td>\n",
       "      <td>AB de Villiers</td>\n",
       "      <td>4</td>\n",
       "    </tr>\n",
       "    <tr>\n",
       "      <th>361</th>\n",
       "      <td>9</td>\n",
       "      <td>RG Sharma</td>\n",
       "      <td>4</td>\n",
       "    </tr>\n",
       "    <tr>\n",
       "      <th>364</th>\n",
       "      <td>9</td>\n",
       "      <td>DA Warner</td>\n",
       "      <td>3</td>\n",
       "    </tr>\n",
       "    <tr>\n",
       "      <th>368</th>\n",
       "      <td>9</td>\n",
       "      <td>AJ Finch</td>\n",
       "      <td>3</td>\n",
       "    </tr>\n",
       "  </tbody>\n",
       "</table>\n",
       "</div>"
      ],
      "text/plain": [
       "     Season_Id     Player_Name  Man_Of_The_Match_Count\n",
       "365          9         V Kohli                       5\n",
       "359          9  AB de Villiers                       4\n",
       "361          9       RG Sharma                       4\n",
       "364          9       DA Warner                       3\n",
       "368          9        AJ Finch                       3"
      ]
     },
     "execution_count": 69,
     "metadata": {},
     "output_type": "execute_result"
    }
   ],
   "source": [
    "from collections import Counter\n",
    "grouped=pd.merge(data,player_data,on='Player_Id',how='inner')\n",
    "seasonwised=grouped.groupby('Season_Id')\n",
    "manofthematchcount=[]\n",
    "d=[]\n",
    "s=1\n",
    "for i,j in seasonwised:\n",
    "    temp=dict(Counter(j.Player_Name))\n",
    "    k=list(temp.keys())\n",
    "    v=list(temp.values())\n",
    "    for t in range(len(k)):\n",
    "        d.append((s,k[t],v[t]))\n",
    "    s+=1\n",
    "countFrame=pd.DataFrame(d,columns=['Season_Id','Player_Name','Man_Of_The_Match_Count'])\n",
    "countFrame.sort_values(by=['Season_Id','Man_Of_The_Match_Count'],kind='mergesort',ascending=False).head(5)"
   ]
  },
  {
   "cell_type": "code",
   "execution_count": 84,
   "metadata": {},
   "outputs": [],
   "source": [
    "lf=[]\n",
    "def findm(seasonid):\n",
    "    newd=countFrame[countFrame.Season_Id==seasonid]\n",
    "    t=newd.sort_values(by=['Man_Of_The_Match_Count'],kind='mergesort',ascending=False).head(1)\n",
    "    lf.append((t.Season_Id.values[0],t.Player_Name.values[0],t.Man_Of_The_Match_Count.values[0]))"
   ]
  },
  {
   "cell_type": "markdown",
   "metadata": {},
   "source": [
    "### Maximum Man of the Match Title in Each Season"
   ]
  },
  {
   "cell_type": "code",
   "execution_count": 85,
   "metadata": {},
   "outputs": [
    {
     "data": {
      "text/html": [
       "<div>\n",
       "<style scoped>\n",
       "    .dataframe tbody tr th:only-of-type {\n",
       "        vertical-align: middle;\n",
       "    }\n",
       "\n",
       "    .dataframe tbody tr th {\n",
       "        vertical-align: top;\n",
       "    }\n",
       "\n",
       "    .dataframe thead th {\n",
       "        text-align: right;\n",
       "    }\n",
       "</style>\n",
       "<table border=\"1\" class=\"dataframe\">\n",
       "  <thead>\n",
       "    <tr style=\"text-align: right;\">\n",
       "      <th></th>\n",
       "      <th>Season_Id</th>\n",
       "      <th>Player_Name</th>\n",
       "      <th>Man_Of_The_Match_Count</th>\n",
       "    </tr>\n",
       "  </thead>\n",
       "  <tbody>\n",
       "    <tr>\n",
       "      <th>0</th>\n",
       "      <td>1</td>\n",
       "      <td>SE Marsh</td>\n",
       "      <td>5</td>\n",
       "    </tr>\n",
       "    <tr>\n",
       "      <th>1</th>\n",
       "      <td>2</td>\n",
       "      <td>YK Pathan</td>\n",
       "      <td>3</td>\n",
       "    </tr>\n",
       "    <tr>\n",
       "      <th>2</th>\n",
       "      <td>3</td>\n",
       "      <td>SR Tendulkar</td>\n",
       "      <td>4</td>\n",
       "    </tr>\n",
       "    <tr>\n",
       "      <th>3</th>\n",
       "      <td>4</td>\n",
       "      <td>CH Gayle</td>\n",
       "      <td>6</td>\n",
       "    </tr>\n",
       "    <tr>\n",
       "      <th>4</th>\n",
       "      <td>5</td>\n",
       "      <td>CH Gayle</td>\n",
       "      <td>5</td>\n",
       "    </tr>\n",
       "    <tr>\n",
       "      <th>5</th>\n",
       "      <td>6</td>\n",
       "      <td>MEK Hussey</td>\n",
       "      <td>5</td>\n",
       "    </tr>\n",
       "    <tr>\n",
       "      <th>6</th>\n",
       "      <td>7</td>\n",
       "      <td>GJ Maxwell</td>\n",
       "      <td>4</td>\n",
       "    </tr>\n",
       "    <tr>\n",
       "      <th>7</th>\n",
       "      <td>8</td>\n",
       "      <td>DA Warner</td>\n",
       "      <td>4</td>\n",
       "    </tr>\n",
       "    <tr>\n",
       "      <th>8</th>\n",
       "      <td>9</td>\n",
       "      <td>V Kohli</td>\n",
       "      <td>5</td>\n",
       "    </tr>\n",
       "  </tbody>\n",
       "</table>\n",
       "</div>"
      ],
      "text/plain": [
       "   Season_Id   Player_Name  Man_Of_The_Match_Count\n",
       "0          1      SE Marsh                       5\n",
       "1          2     YK Pathan                       3\n",
       "2          3  SR Tendulkar                       4\n",
       "3          4      CH Gayle                       6\n",
       "4          5      CH Gayle                       5\n",
       "5          6    MEK Hussey                       5\n",
       "6          7    GJ Maxwell                       4\n",
       "7          8     DA Warner                       4\n",
       "8          9       V Kohli                       5"
      ]
     },
     "execution_count": 85,
     "metadata": {},
     "output_type": "execute_result"
    }
   ],
   "source": [
    "for i in range(1,10):\n",
    "    findm(i)\n",
    "pd.DataFrame(lf,columns=['Season_Id','Player_Name','Man_Of_The_Match_Count'])"
   ]
  }
 ],
 "metadata": {
  "kernelspec": {
   "display_name": "Python 3",
   "language": "python",
   "name": "python3"
  },
  "language_info": {
   "codemirror_mode": {
    "name": "ipython",
    "version": 3
   },
   "file_extension": ".py",
   "mimetype": "text/x-python",
   "name": "python",
   "nbconvert_exporter": "python",
   "pygments_lexer": "ipython3",
   "version": "3.6.7"
  }
 },
 "nbformat": 4,
 "nbformat_minor": 2
}
